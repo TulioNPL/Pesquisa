{
 "cells": [
  {
   "cell_type": "markdown",
   "metadata": {},
   "source": [
    "# Boxplots\n",
    "<img src='../img/Dublin/boxplotTamTrajs_Dublin.png' width=\"400\" height=\"300\">\n",
    "<img src='../img/Roma/boxplotTamTrajs_Roma.png' width=\"400\" height=\"300\">"
   ]
  },
  {
   "cell_type": "markdown",
   "metadata": {},
   "source": [
    "Nos gráficos de boxplot, cada item foi construído tendo como base dois limites, de distância e tempo entre dois pontos, que foram escolhidos pela observação das CDFs de tempos e distâncias entre pontos. Analisando os boxplots de Dublin aos de Roma, vemos que a alteração de limites não interfere muito no tamanho das trajetórias.\n",
    "Já os de Roma sofrem uma grande mudança, principalmente pela alteração do limite de tempo. Entre os dois gráficos, vemos que as trajetórias de Roma são, em geral, maiores que as de Dublin se desconsiderarmos a primeira box. Isso pode ocorrer por conta da diferença de comportamento entre ônibus e táxis, bem como pela diferença estrutural das cidades, indicando que a cidade de Roma pode favorecer viagens mais longas.\n",
    "\n",
    "É interessante notar que Roma é uma cidade com área central de 343.14Km² e perímetro = 67.45Km, e área metropolitana de 2455.75Km² e perímetro = 185.38Km. Já Dublin tem área central de 162.12Km² e perímetro = 50.09Km, e área metropolitana de 609.42Km² e perímetro = 116.48Km. A razão entre a área da cidade de Roma e Dublin é 2.11, explicando o porquê de o limite superior das rotas dos veículos em Roma serem maiores."
   ]
  },
  {
   "cell_type": "markdown",
   "metadata": {},
   "source": [
    "# Funções de Densidade Cumulativa\n",
    "## Tempo entre pontos\n",
    "<img src='../img/Dublin/cdfTempo_Dublin.png' width=\"400\" height=\"200\">\n",
    "<img src='../img/Roma/cdfTempo_Roma.png' width=\"400\" height=\"200\">"
   ]
  },
  {
   "cell_type": "markdown",
   "metadata": {},
   "source": [
    "As CDFs de tempo entre dois pontos indicam a porcentagem de dados que está presente até determinado limite de tempo. Elas foram usadas para estabelecer o limite de tempo a ser utilizado no algoritmo de separação de viagens. No caso de Dublin os limites são 30 e 38 segundos, representando valores até aproximadamente 95% da base de dados. Em Roma, esses limites são 15 e 18 segundos, representando 95% e 98%, respectivamente."
   ]
  },
  {
   "cell_type": "markdown",
   "metadata": {},
   "source": [
    "## Distância entre pontos\n",
    "<img src='../img/Dublin/cdfDistancia_Dublin.png' width=\"400\" height=\"200\">\n",
    "<img src='../img/Roma/cdfDistancia_Roma.png' width=\"400\" height=\"200\">"
   ]
  },
  {
   "cell_type": "markdown",
   "metadata": {},
   "source": [
    "Como as CDFs anteriores, essas também foram utilizadas para estabelecer limites, neste caso de distância. Percebemos que a curva de Dublin é bem mais suave se comparada à de Roma, que mostra uma concentração grande de dados com valores pequenos. Em Roma, foram escolhidos os limites de 25 e 50 metros, representando 95% e 98% dos valores, respectivamente. No caso de Dublin, os limtes são 300 e 350 metros, representando 88% e 92% dos valores."
   ]
  },
  {
   "cell_type": "markdown",
   "metadata": {},
   "source": [
    "## Tempo por trajetória\n",
    "<img src='../img/Dublin/cdfTempPorTraj_Dublin.png' width=\"400\" height=\"200\">\n",
    "<img src='../img/Roma/cdfTempPorTraj_Roma.png' width=\"400\" height=\"200\">"
   ]
  },
  {
   "cell_type": "markdown",
   "metadata": {},
   "source": [
    "As CDFs de tempo por trajetória nos mostram que no caso de Dublin há uma curva um pouco mais acentuada, indicando uma porcentagem maior de valores pequenos. Em Roma, pouco mais de 70% dos valores estão abaixo de 50 minutos, já em Dublin isso cobre entre 85% e 90% dos valores. "
   ]
  },
  {
   "cell_type": "markdown",
   "metadata": {},
   "source": [
    "## Trajetórias por veículo\n",
    "<img src='../img/Dublin/cdfTrajPorVeic_Dublin.png' width=\"400\" height=\"200\">\n",
    "<img src='../img/Roma/cdfTrajPorVeic_Roma.png' width=\"400\" height=\"200\">"
   ]
  },
  {
   "cell_type": "markdown",
   "metadata": {},
   "source": [
    "As CDFs de trajetórias por veículo mostram grande diferença de comportamento entra as duas bases de dados. No caso de Roma, praticamente 100% dos veículo possuem menos de 30 trajetórias em um único dia. Dublin mostra valores muito maiores, indo até 200 trajetórias por veículo num único dia, onde 30 trajetórias representa menos de 50% do total. O provável motivo é que os táxis ficam muito tempo parados esperando por passageiros, já os ônibus possuem horário e rotas fixadas, o que explicaria a maior quantidade de trajetórias por veículo. Além disso, cada ponto intermediário de um ônibus pode ser considerado como fim de uma trip e início de uma nova pelo algoritmo de detecção de viagens."
   ]
  },
  {
   "cell_type": "markdown",
   "metadata": {},
   "source": [
    "# Histogramas\n",
    "## Granuralidade\n",
    "<img src='../img/Dublin/granuralidade_Dublin.png' width=\"400\" height=\"270\">\n",
    "<img src='../img/Roma/granuralidade_Roma.png' width=\"400\" height=\"270\">"
   ]
  },
  {
   "cell_type": "markdown",
   "metadata": {},
   "source": [
    "Estes histogramas mostram a granuralidade de cada base de dados, ou seja, quanto tempo ocorre entre a gravação de um ponto e outro. Em Roma temos uma base mais densa, com muitos pontos em pouco espaço de tempo, isso é explicado por ser uma base calibrada. Já Dublin possui uma granuralidade 10 vezes maior, porque demora quase 22 segundos entre a gravação de dois pontos consecutivos. "
   ]
  },
  {
   "cell_type": "markdown",
   "metadata": {},
   "source": [
    "## Viagens por veículo\n",
    "<img src='../img/Dublin/qtdViagens_Dublin.png' width=\"400\" height=\"270\">\n",
    "<img src='../img/Roma/qtdViagens_Roma.png' width=\"400\" height=\"270\">"
   ]
  },
  {
   "cell_type": "markdown",
   "metadata": {},
   "source": [
    "Os gráficos de viagens por veículo mostram quantos veículos possuem determinada quantidade de viagens. Nesse caso, as viagens dos ônibus são consideradas apenas pontos iniciais aos finais, desconsiderando paradas. Dessa forma vemos uma quantidade média menor de viagens para os veículos de Dublin, com uma concentração grande de veículos com até 30 viagens por dia. Roma mostra uma distribuição mais espaçada, contendo veículos com até 80 viagens e uma média de 26 viagens por veículo, praticamente o dobro da média de Dublin. Como ônibus são veículos com trajetórias normalmente longas, isso explicaria a quantidade menor de viagens diárias, afinal, os táxis vão do ponto A ao B na trajetória mais rápida possível, o que pode não ser verdade para muitas trajetórias de ônibus."
   ]
  },
  {
   "cell_type": "markdown",
   "metadata": {},
   "source": [
    "## Tamanho das trajetórias\n",
    "<img src='../img/Dublin/histTamTrajs_Dublin.png' width=\"400\" height=\"270\">\n",
    "<img src='../img/Roma/histTamTrajs_Roma.png' width=\"400\" height=\"270\">"
   ]
  },
  {
   "cell_type": "markdown",
   "metadata": {},
   "source": [
    "Estes histogramas informam a quantidade de trajetórias que possuem determinado tamanho. Roma possui um comportamento de cauda longa, com grande quantidade de trajetórias pequenas, a maioria menor que 5Km, porém com uma média de 44Km. Já Dublin se aproxima mais de uma distribuição F com média de 23Km e poucas trajetórias abaixo de 5Km. Isso pode ser explicado pela diferença comportamental dos veículos. Ônibus possuem trajetórias já traçadas e planejadas, sendo incomum viagens pequenas pois seriam ineficientes. Táxis são comumente usados por pessoas que precisam de deslocamento rápido, o que seria mais apto a ser escolhido para trajetórias pequenas ou muito grandes."
   ]
  },
  {
   "cell_type": "markdown",
   "metadata": {},
   "source": [
    "## Tempo das trajetórias\n",
    "<img src='../img/Dublin/histTempoTrips_Dublin.png' width=\"400\" height=\"270\">\n",
    "<img src='../img/Roma/histTempoTrips_Roma.png' width=\"400\" height=\"270\">"
   ]
  },
  {
   "cell_type": "markdown",
   "metadata": {},
   "source": [
    "Os histogramas de tempo das trajetórias representam quantas trajetórias estão incluidas em determinado intervalo de tempo. Roma mostra possuir trajetórias muito curtas com média de 13 minutos, e, novamente, é observável o comportamento de cauda longa quando estabelecemos o limite do gráfico de até 200 minutos. Dublin possui uma média de tempo muito maior, 110 minutos, e mantém o comportamento de distribuição F. É um padrão de comportamento esperado para ônibus que tendem a ter trajetórias longas."
   ]
  },
  {
   "cell_type": "markdown",
   "metadata": {},
   "source": [
    "## Velocidade média das trajetórias\n",
    "<img src='../img/Dublin/histVelTrips_Dublin.png' width=\"400\" height=\"270\">\n",
    "<img src='../img/Roma/histVelTrips_Roma.png' width=\"400\" height=\"270\">"
   ]
  },
  {
   "cell_type": "markdown",
   "metadata": {},
   "source": [
    "Os histogramas de velocidade média das trajetórias expõem quantas trajetórias possuem uma velocidade média dentro de um intervalo específico. A diferença entre as médias não é muito grande entre as duas bases, sendo a de Roma pouco maior. Sendo ônibus veículos de rotação interna na cidade, é esperável que a velocidade média seja mais baixa, além de controlada, o que pode ser confirmado pelo gráfico, com a maior parte das trajetórias de velocidade média até 50Km/H. Os táxis por terem mais liberdade de movimentação, tendem a se mover mais rápido, o que também é demonstrado nos gráficos, com uma quantidade um pouco maior de trajetórias cuja média de velocidade é acima dos 50Km/H"
   ]
  },
  {
   "cell_type": "markdown",
   "metadata": {},
   "source": [
    "# Mapas\n",
    "## Dez pontos com maior densidade veicular\n",
    "<img src='../img/Dublin/mapa10Densos_Dublin.png' width=\"550\" height=\"400\">\n",
    "<img src='../img/Roma/mapa10Densos_Roma.png' width=\"400\" height=\"270\">"
   ]
  },
  {
   "cell_type": "markdown",
   "metadata": {},
   "source": [
    "Nos mapas anteriores temos os dez pontos com maior densidade veicular durante um dia. No caso de Dublin, vemos os pontos 4 e 10 na entrada do aeroporto da cidade, enquanto o ponto 8 se encontra na portaria de logística do mesmo aeroporto. O ponto 7 se encontra isolado no porto de Dublin. Os pontos 1, 3 e 9 estão bem aproximados e localizados no centro da cidade, onde se encontra uma grande área comercia, já o ponto 2 se encontra um pouco afastado desses três citados, em frente à sede do governo local e próximo a uma área de recreação com bares e restaurantes. O ponto 5, fica bem ao Oeste da cidade, onde está localizado outro centro comercial de grande porte. Já o ponto 6 se encontra numa área ao Sul da cidade onde estão localizados condomínios residenciais."
   ]
  },
  {
   "cell_type": "markdown",
   "metadata": {},
   "source": []
  }
 ],
 "metadata": {
  "interpreter": {
   "hash": "aee8b7b246df8f9039afb4144a1f6fd8d2ca17a180786b69acc140d282b71a49"
  },
  "kernelspec": {
   "display_name": "Python 3.9.7 64-bit",
   "name": "python3"
  },
  "language_info": {
   "codemirror_mode": {
    "name": "ipython",
    "version": 3
   },
   "file_extension": ".py",
   "mimetype": "text/x-python",
   "name": "python",
   "nbconvert_exporter": "python",
   "pygments_lexer": "ipython3",
   "version": "3.9.7"
  },
  "orig_nbformat": 4
 },
 "nbformat": 4,
 "nbformat_minor": 2
}
